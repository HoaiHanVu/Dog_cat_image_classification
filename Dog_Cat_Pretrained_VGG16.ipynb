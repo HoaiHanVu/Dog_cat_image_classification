{
 "cells": [
  {
   "cell_type": "code",
   "execution_count": 1,
   "id": "d3d7d3b5",
   "metadata": {},
   "outputs": [],
   "source": [
    "import numpy as np\n",
    "import pandas as pd\n",
    "import matplotlib.pyplot as plt\n",
    "import tensorflow as tf\n",
    "from tensorflow import keras\n",
    "from tensorflow.keras import applications\n",
    "from tensorflow.keras.preprocessing.image import ImageDataGenerator"
   ]
  },
  {
   "cell_type": "code",
   "execution_count": 2,
   "id": "7c1b2a3a",
   "metadata": {},
   "outputs": [],
   "source": [
    "VGG16_model = applications.VGG16(weights = 'imagenet',\n",
    "                                     input_shape = (224, 224, 3),\n",
    "                                     include_top = False)"
   ]
  },
  {
   "cell_type": "code",
   "execution_count": 3,
   "id": "2cef3c7a",
   "metadata": {},
   "outputs": [
    {
     "name": "stdout",
     "output_type": "stream",
     "text": [
      "Model: \"vgg16\"\n",
      "_________________________________________________________________\n",
      " Layer (type)                Output Shape              Param #   \n",
      "=================================================================\n",
      " input_1 (InputLayer)        [(None, 224, 224, 3)]     0         \n",
      "                                                                 \n",
      " block1_conv1 (Conv2D)       (None, 224, 224, 64)      1792      \n",
      "                                                                 \n",
      " block1_conv2 (Conv2D)       (None, 224, 224, 64)      36928     \n",
      "                                                                 \n",
      " block1_pool (MaxPooling2D)  (None, 112, 112, 64)      0         \n",
      "                                                                 \n",
      " block2_conv1 (Conv2D)       (None, 112, 112, 128)     73856     \n",
      "                                                                 \n",
      " block2_conv2 (Conv2D)       (None, 112, 112, 128)     147584    \n",
      "                                                                 \n",
      " block2_pool (MaxPooling2D)  (None, 56, 56, 128)       0         \n",
      "                                                                 \n",
      " block3_conv1 (Conv2D)       (None, 56, 56, 256)       295168    \n",
      "                                                                 \n",
      " block3_conv2 (Conv2D)       (None, 56, 56, 256)       590080    \n",
      "                                                                 \n",
      " block3_conv3 (Conv2D)       (None, 56, 56, 256)       590080    \n",
      "                                                                 \n",
      " block3_pool (MaxPooling2D)  (None, 28, 28, 256)       0         \n",
      "                                                                 \n",
      " block4_conv1 (Conv2D)       (None, 28, 28, 512)       1180160   \n",
      "                                                                 \n",
      " block4_conv2 (Conv2D)       (None, 28, 28, 512)       2359808   \n",
      "                                                                 \n",
      " block4_conv3 (Conv2D)       (None, 28, 28, 512)       2359808   \n",
      "                                                                 \n",
      " block4_pool (MaxPooling2D)  (None, 14, 14, 512)       0         \n",
      "                                                                 \n",
      " block5_conv1 (Conv2D)       (None, 14, 14, 512)       2359808   \n",
      "                                                                 \n",
      " block5_conv2 (Conv2D)       (None, 14, 14, 512)       2359808   \n",
      "                                                                 \n",
      " block5_conv3 (Conv2D)       (None, 14, 14, 512)       2359808   \n",
      "                                                                 \n",
      " block5_pool (MaxPooling2D)  (None, 7, 7, 512)         0         \n",
      "                                                                 \n",
      "=================================================================\n",
      "Total params: 14,714,688\n",
      "Trainable params: 14,714,688\n",
      "Non-trainable params: 0\n",
      "_________________________________________________________________\n"
     ]
    }
   ],
   "source": [
    "VGG16_model.summary()"
   ]
  },
  {
   "cell_type": "code",
   "execution_count": 4,
   "id": "18cf8c5a",
   "metadata": {},
   "outputs": [],
   "source": [
    "for layer in VGG16_model.layers:\n",
    "    layer.trainable = False"
   ]
  },
  {
   "cell_type": "code",
   "execution_count": 5,
   "id": "a35f01f7",
   "metadata": {},
   "outputs": [],
   "source": [
    "def train_test_generator(train_dir, test_dir):\n",
    "    train_datagen = ImageDataGenerator(rescale = 1./255,\n",
    "                                       width_shift_range = 0.2,\n",
    "                                       height_shift_range = 0.2,\n",
    "                                       rotation_range = 40,\n",
    "                                       shear_range = 0.2,\n",
    "                                       zoom_range = 0.2,\n",
    "                                       horizontal_flip = True,\n",
    "                                       fill_mode = 'nearest')\n",
    "    \n",
    "    train_generator = train_datagen.flow_from_directory(train_dir,\n",
    "                                                        target_size = (224, 224),\n",
    "                                                        class_mode = 'binary',\n",
    "                                                        batch_size = 32)\n",
    "    \n",
    "    test_datagen = ImageDataGenerator(rescale = 1./255)\n",
    "    \n",
    "    test_generator = test_datagen.flow_from_directory(test_dir,\n",
    "                                                      target_size = (224, 224),\n",
    "                                                      class_mode = 'binary',\n",
    "                                                      batch_size = 32)\n",
    "    \n",
    "    return train_generator, test_generator"
   ]
  },
  {
   "cell_type": "code",
   "execution_count": 6,
   "id": "b6f610f1",
   "metadata": {},
   "outputs": [
    {
     "name": "stdout",
     "output_type": "stream",
     "text": [
      "Found 22500 images belonging to 2 classes.\n",
      "Found 2500 images belonging to 2 classes.\n"
     ]
    }
   ],
   "source": [
    "training_dir = '/Users/vuhan/Desktop/dog-vs-cat-classification/data/training/'\n",
    "testing_dir = '/Users/vuhan/Desktop/dog-vs-cat-classification/data/testing/'\n",
    "\n",
    "train_generator, test_generator = train_test_generator(training_dir, testing_dir)"
   ]
  },
  {
   "cell_type": "code",
   "execution_count": 7,
   "id": "cbb51203",
   "metadata": {},
   "outputs": [],
   "source": [
    "# last_desired_layer = inception_model.get_layer('mixed7')\n",
    "last_output = VGG16_model.output"
   ]
  },
  {
   "cell_type": "code",
   "execution_count": 8,
   "id": "3611af78",
   "metadata": {},
   "outputs": [],
   "source": [
    "def create_model(pre_trained_model, last_output):\n",
    "    x = tf.keras.layers.Flatten()(last_output)\n",
    "    x = tf.keras.layers.Dense(1024, activation = 'relu')(x)\n",
    "    x = tf.keras.layers.Dropout(0.2)(x)\n",
    "    x = tf.keras.layers.Dense(256, activation = 'relu')(x)\n",
    "    x = tf.keras.layers.Dense(1, activation = 'sigmoid')(x)\n",
    "    \n",
    "    model = tf.keras.Model(inputs = pre_trained_model.input, outputs = x)\n",
    "    \n",
    "    model.compile(loss = 'binary_crossentropy',\n",
    "                  optimizer = 'adam',\n",
    "                  metrics = ['accuracy'])\n",
    "    return model"
   ]
  },
  {
   "cell_type": "code",
   "execution_count": 9,
   "id": "a1e3191a",
   "metadata": {},
   "outputs": [],
   "source": [
    "model = create_model(VGG16_model, last_output)"
   ]
  },
  {
   "cell_type": "code",
   "execution_count": 10,
   "id": "38b98c21",
   "metadata": {},
   "outputs": [
    {
     "name": "stdout",
     "output_type": "stream",
     "text": [
      "There are 40,668,481 total parameters in this model.\n",
      "There are 25,953,793 trainable parameters in this model.\n"
     ]
    }
   ],
   "source": [
    "total_params = model.count_params()\n",
    "num_trainable_params = sum([w.shape.num_elements() for w in model.trainable_weights])\n",
    "\n",
    "print(f\"There are {total_params:,} total parameters in this model.\")\n",
    "print(f\"There are {num_trainable_params:,} trainable parameters in this model.\")"
   ]
  },
  {
   "cell_type": "code",
   "execution_count": 11,
   "id": "9bca047f",
   "metadata": {
    "scrolled": true
   },
   "outputs": [
    {
     "name": "stdout",
     "output_type": "stream",
     "text": [
      "Epoch 1/100\n",
      "704/704 [==============================] - 2402s 3s/step - loss: 0.4018 - accuracy: 0.8312 - val_loss: 0.1990 - val_accuracy: 0.9168\n",
      "Epoch 2/100\n",
      "704/704 [==============================] - 2465s 4s/step - loss: 0.2880 - accuracy: 0.8735 - val_loss: 0.2211 - val_accuracy: 0.9164\n",
      "Epoch 3/100\n",
      "704/704 [==============================] - 2485s 4s/step - loss: 0.2734 - accuracy: 0.8798 - val_loss: 0.1843 - val_accuracy: 0.9316\n",
      "Epoch 4/100\n",
      "704/704 [==============================] - 2413s 3s/step - loss: 0.2585 - accuracy: 0.8879 - val_loss: 0.1833 - val_accuracy: 0.9288\n",
      "Epoch 5/100\n",
      "704/704 [==============================] - 2241s 3s/step - loss: 0.2585 - accuracy: 0.8872 - val_loss: 0.1862 - val_accuracy: 0.9316\n",
      "Epoch 6/100\n",
      "704/704 [==============================] - 2220s 3s/step - loss: 0.2430 - accuracy: 0.8959 - val_loss: 0.1922 - val_accuracy: 0.9232\n",
      "Epoch 7/100\n",
      "704/704 [==============================] - 2222s 3s/step - loss: 0.2459 - accuracy: 0.8943 - val_loss: 0.2177 - val_accuracy: 0.9084\n",
      "Epoch 8/100\n",
      "704/704 [==============================] - 2200s 3s/step - loss: 0.2404 - accuracy: 0.8966 - val_loss: 0.1931 - val_accuracy: 0.9252\n",
      "\n",
      "Training model took 310.79 minutes.\n"
     ]
    }
   ],
   "source": [
    "import time\n",
    "from tensorflow.keras.callbacks import EarlyStopping\n",
    "\n",
    "early_stop = EarlyStopping(monitor = 'val_loss',\n",
    "                           min_delta = 0.001,\n",
    "                           patience = 5)\n",
    "t1 = time.time()\n",
    "history = model.fit(train_generator,\n",
    "                    validation_data = test_generator,\n",
    "                    epochs = 100,\n",
    "                    callbacks = [early_stop])\n",
    "t2 = time.time()\n",
    "\n",
    "print('\\nTraining model took {:.2f} minutes.'.format((t2 - t1) / 60))"
   ]
  },
  {
   "cell_type": "code",
   "execution_count": 12,
   "id": "d60849af",
   "metadata": {},
   "outputs": [
    {
     "name": "stdout",
     "output_type": "stream",
     "text": [
      "Saved!!!\n"
     ]
    }
   ],
   "source": [
    "model.save('Dog_Cat_classification_VGG16.h5')\n",
    "print('Saved!!!')"
   ]
  },
  {
   "cell_type": "code",
   "execution_count": null,
   "id": "209d4bfe",
   "metadata": {},
   "outputs": [],
   "source": []
  }
 ],
 "metadata": {
  "kernelspec": {
   "display_name": "Python 3",
   "language": "python",
   "name": "python3"
  },
  "language_info": {
   "codemirror_mode": {
    "name": "ipython",
    "version": 3
   },
   "file_extension": ".py",
   "mimetype": "text/x-python",
   "name": "python",
   "nbconvert_exporter": "python",
   "pygments_lexer": "ipython3",
   "version": "3.8.10"
  }
 },
 "nbformat": 4,
 "nbformat_minor": 5
}
